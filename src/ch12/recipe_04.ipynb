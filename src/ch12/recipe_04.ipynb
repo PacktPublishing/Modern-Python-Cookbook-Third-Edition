{
 "cells": [
  {
   "cell_type": "markdown",
   "id": "22f037ad-d2ec-485a-9798-9ac8bf350480",
   "metadata": {
    "editable": true,
    "slideshow": {
     "slide_type": ""
    },
    "tags": []
   },
   "source": [
    "# Anscombe's Quartet\n",
    "\n",
    "The raw data has four series. The correlation coefficients are high.\n",
    "Visualization shows that a simple linear regression model is misleading.\n",
    "\n",
    "## Raw Data for the Series"
   ]
  },
  {
   "cell_type": "code",
   "execution_count": 1,
   "id": "a79d2991-7893-4cb2-b001-b55888c68efc",
   "metadata": {
    "editable": true,
    "slideshow": {
     "slide_type": ""
    },
    "tags": []
   },
   "outputs": [],
   "source": [
    "import json\n",
    "from pathlib import Path\n",
    "import statistics\n",
    "\n",
    "from pydantic import BaseModel"
   ]
  },
  {
   "cell_type": "code",
   "execution_count": 2,
   "id": "99a55c73-67ad-4ce0-9faf-7921a179e5f2",
   "metadata": {
    "editable": true,
    "slideshow": {
     "slide_type": ""
    },
    "tags": []
   },
   "outputs": [],
   "source": [
    "class Pair(BaseModel):\n",
    "    x: float\n",
    "    y: float\n",
    "\n",
    "class Series(BaseModel):\n",
    "    series: str\n",
    "    data: list[Pair]\n",
    "\n",
    "    @property\n",
    "    def x(self) -> list[float]:\n",
    "        return [p.x for p in self.data]\n",
    "        \n",
    "    @property\n",
    "    def y(self) -> list[float]:\n",
    "        return [p.y for p in self.data]\n",
    "\n",
    "    @property\n",
    "    def correlation(self) -> float:\n",
    "        return statistics.correlation(self.x, self.y)\n",
    "\n",
    "    @property\n",
    "    def regression(self) -> tuple[float, float]:\n",
    "        return statistics.linear_regression(self.x, self.y)"
   ]
  },
  {
   "cell_type": "code",
   "execution_count": 3,
   "id": "9f5030f1-f7bb-4254-a829-86cf198eed9c",
   "metadata": {
    "editable": true,
    "slideshow": {
     "slide_type": ""
    },
    "tags": []
   },
   "outputs": [],
   "source": [
    "source = Path.cwd().parent.parent / \"data\" / \"anscombe.json\"\n",
    "with source.open() as source_file:\n",
    "    json_document = json.load(source_file)\n",
    "    source_data = (Series.model_validate(s) for s in json_document)\n",
    "    quartet = {s.series: s for s in source_data}"
   ]
  },
  {
   "cell_type": "code",
   "execution_count": 4,
   "id": "df4a3189-55df-42f0-ad86-0b61e41cedba",
   "metadata": {
    "editable": true,
    "slideshow": {
     "slide_type": ""
    },
    "tags": []
   },
   "outputs": [
    {
     "data": {
      "text/plain": [
       "Series(series='I', data=[Pair(x=10.0, y=8.04), Pair(x=8.0, y=6.95), Pair(x=13.0, y=7.58), Pair(x=9.0, y=8.81), Pair(x=11.0, y=8.33), Pair(x=14.0, y=9.96), Pair(x=6.0, y=7.24), Pair(x=4.0, y=4.26), Pair(x=12.0, y=10.84), Pair(x=7.0, y=4.82), Pair(x=5.0, y=5.68)])"
      ]
     },
     "execution_count": 4,
     "metadata": {},
     "output_type": "execute_result"
    }
   ],
   "source": [
    "quartet['I']"
   ]
  },
  {
   "cell_type": "code",
   "execution_count": 5,
   "id": "13108efb-7c10-4250-8c24-4bff9d53f66c",
   "metadata": {
    "editable": true,
    "slideshow": {
     "slide_type": ""
    },
    "tags": []
   },
   "outputs": [
    {
     "data": {
      "text/plain": [
       "Series(series='IV', data=[Pair(x=8.0, y=6.58), Pair(x=8.0, y=5.76), Pair(x=8.0, y=7.71), Pair(x=8.0, y=8.84), Pair(x=8.0, y=8.47), Pair(x=8.0, y=7.04), Pair(x=8.0, y=5.25), Pair(x=19.0, y=12.5), Pair(x=8.0, y=5.56), Pair(x=8.0, y=7.91), Pair(x=8.0, y=6.89)])"
      ]
     },
     "execution_count": 5,
     "metadata": {},
     "output_type": "execute_result"
    }
   ],
   "source": [
    "quartet['IV']"
   ]
  },
  {
   "cell_type": "markdown",
   "id": "c381c215-048e-4534-88a2-0c8818efd0ae",
   "metadata": {},
   "source": [
    "## Statistical Computations\n",
    "\n",
    "Two properties compute correlation coefficient, $r$, and perform linear regression.\n",
    "The regression gives us two parameters for a line.\n",
    "- Slope, $m$.\n",
    "- Intercept, $b$.\n",
    "\n",
    "The equation is $y = m \\times x + b$"
   ]
  },
  {
   "cell_type": "code",
   "execution_count": 6,
   "id": "5b3ae023-bcf4-43cb-9444-692174a58e76",
   "metadata": {},
   "outputs": [
    {
     "data": {
      "text/plain": [
       "0.81642051634484"
      ]
     },
     "execution_count": 6,
     "metadata": {},
     "output_type": "execute_result"
    }
   ],
   "source": [
    "quartet['I'].correlation"
   ]
  },
  {
   "cell_type": "code",
   "execution_count": 9,
   "id": "e67f9021-f8c0-4ff9-a42a-cc11f251131d",
   "metadata": {},
   "outputs": [
    {
     "data": {
      "text/plain": [
       "'y = 0.5 * x + 3.0'"
      ]
     },
     "execution_count": 9,
     "metadata": {},
     "output_type": "execute_result"
    }
   ],
   "source": [
    "r = quartet['I'].regression\n",
    "f\"y = {r.slope:.1f} * x + {r.intercept:.1f}\""
   ]
  },
  {
   "cell_type": "markdown",
   "id": "b7d5caf7-dedf-4bed-8cf3-f482de21e302",
   "metadata": {
    "editable": true,
    "slideshow": {
     "slide_type": ""
    },
    "tags": []
   },
   "source": [
    "## Visualization"
   ]
  },
  {
   "cell_type": "code",
   "execution_count": 10,
   "id": "512046c8-a3a7-43dc-9f70-456835485651",
   "metadata": {
    "editable": true,
    "slideshow": {
     "slide_type": ""
    },
    "tags": []
   },
   "outputs": [],
   "source": [
    "from matplotlib import pyplot as plt"
   ]
  },
  {
   "cell_type": "code",
   "execution_count": 13,
   "id": "e996d383-57ce-4616-8d2a-8e5023780d20",
   "metadata": {
    "editable": true,
    "slideshow": {
     "slide_type": ""
    },
    "tags": []
   },
   "outputs": [
    {
     "data": {
      "image/png": "[encoded data removed]",
      "text/plain": [
       "<Figure size 640x480 with 4 Axes>"
      ]
     },
     "metadata": {},
     "output_type": "display_data"
    }
   ],
   "source": [
    "fig = plt.figure(layout='tight')\n",
    "ax_dict = fig.subplot_mosaic(\n",
    "    [\n",
    "        [\"I\", \"II\"],\n",
    "        [\"III\", \"IV\"],\n",
    "    ],\n",
    ")\n",
    "for name, ax in ax_dict.items():\n",
    "    series = quartet[name]\n",
    "    ax.scatter(series.x, series.y)\n",
    "    ax.set_title(f\"Series {name}\")\n",
    "    lr = series.regression\n",
    "    eq1 = rf\"$r = {series.correlation:.3f}$\"\n",
    "    eq2 = rf\"$Y = {lr.slope:.1f} \\times X + {lr.intercept:.2f}$\"\n",
    "    ax.text(.95, .05, f\"{eq1}\\n{eq2}\",\n",
    "            fontfamily='sans-serif',\n",
    "            horizontalalignment='right', verticalalignment='bottom', transform=ax.transAxes)\n",
    "    ax.axline((0, lr.intercept), slope=lr.slope)\n",
    "plt.show()"
   ]
  },
  {
   "cell_type": "code",
   "execution_count": null,
   "id": "359329a5-3245-4d87-9fb1-1a7e9a133ba3",
   "metadata": {
    "editable": true,
    "slideshow": {
     "slide_type": ""
    },
    "tags": []
   },
   "outputs": [],
   "source": []
  },
  {
   "cell_type": "code",
   "execution_count": null,
   "id": "398af07d-5cdc-488b-86a0-5bcc0fa07ada",
   "metadata": {},
   "outputs": [],
   "source": []
  }
 ],
 "metadata": {
  "kernelspec": {
   "display_name": "Python 3 (ipykernel)",
   "language": "python",
   "name": "python3"
  },
  "language_info": {
   "codemirror_mode": {
    "name": "ipython",
    "version": 3
   },
   "file_extension": ".py",
   "mimetype": "text/x-python",
   "name": "python",
   "nbconvert_exporter": "python",
   "pygments_lexer": "ipython3",
   "version": "3.12.0"
  }
 },
 "nbformat": 4,
 "nbformat_minor": 5
}
