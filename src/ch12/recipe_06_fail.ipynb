{
 "cells": [
  {
   "cell_type": "markdown",
   "id": "22f037ad-d2ec-485a-9798-9ac8bf350480",
   "metadata": {
    "editable": true,
    "slideshow": {
     "slide_type": ""
    },
    "tags": []
   },
   "source": [
    "# Exploration\n",
    "\n",
    "This notebook shows some basic exploration of Jupyter Lab features."
   ]
  },
  {
   "cell_type": "code",
   "execution_count": 1,
   "id": "a79d2991-7893-4cb2-b001-b55888c68efc",
   "metadata": {
    "editable": true,
    "slideshow": {
     "slide_type": ""
    },
    "tags": []
   },
   "outputs": [],
   "source": [
    "from matplotlib import pyplot as plt\n",
    "from pydantic import BaseModel"
   ]
  },
  {
   "cell_type": "markdown",
   "id": "afbe6a95-c751-4199-82f6-6f8f50c71924",
   "metadata": {
    "editable": true,
    "slideshow": {
     "slide_type": ""
    },
    "tags": []
   },
   "source": [
    "## Bad Code example\n",
    "\n",
    "This shows how the notebook behaves when use set the `raises-exception` Cell Tag."
   ]
  },
  {
   "cell_type": "code",
   "execution_count": 2,
   "id": "f37affc2-123c-4b2b-9f60-fb5d099a7eca",
   "metadata": {
    "editable": true,
    "slideshow": {
     "slide_type": ""
    },
    "tags": [
     "raises-exception"
    ]
   },
   "outputs": [
    {
     "ename": "SyntaxError",
     "evalue": "invalid syntax (1614032196.py, line 1)",
     "output_type": "error",
     "traceback": [
      "\u001b[0;36m  Cell \u001b[0;32mIn[2], line 1\u001b[0;36m\u001b[0m\n\u001b[0;31m    bad code\u001b[0m\n\u001b[0m        ^\u001b[0m\n\u001b[0;31mSyntaxError\u001b[0m\u001b[0;31m:\u001b[0m invalid syntax\n"
     ]
    }
   ],
   "source": [
    "bad code"
   ]
  },
  {
   "cell_type": "code",
   "execution_count": 3,
   "id": "1aad58cb-5d89-4de1-9833-4aa88d0134b9",
   "metadata": {
    "editable": true,
    "slideshow": {
     "slide_type": ""
    },
    "tags": [
     "raises-exception"
    ]
   },
   "outputs": [
    {
     "name": "stdout",
     "output_type": "stream",
     "text": [
      "good code\n"
     ]
    }
   ],
   "source": [
    "print(\"good code\")"
   ]
  },
  {
   "cell_type": "code",
   "execution_count": 4,
   "id": "2cd811be-0074-48da-9ead-f78aef0d9a43",
   "metadata": {
    "editable": true,
    "slideshow": {
     "slide_type": ""
    },
    "tags": []
   },
   "outputs": [
    {
     "ename": "AssertionError",
     "evalue": "invald 3.1415929203539825",
     "output_type": "error",
     "traceback": [
      "\u001b[0;31m---------------------------------------------------------------------------\u001b[0m",
      "\u001b[0;31mAssertionError\u001b[0m                            Traceback (most recent call last)",
      "Cell \u001b[0;32mIn[4], line 2\u001b[0m\n\u001b[1;32m      1\u001b[0m value \u001b[38;5;241m=\u001b[39m \u001b[38;5;241m355\u001b[39m\u001b[38;5;241m/\u001b[39m\u001b[38;5;241m113\u001b[39m\n\u001b[0;32m----> 2\u001b[0m \u001b[38;5;28;01massert\u001b[39;00m value \u001b[38;5;241m==\u001b[39m \u001b[38;5;241m3.14\u001b[39m, \u001b[38;5;124mf\u001b[39m\u001b[38;5;124m\"\u001b[39m\u001b[38;5;124minvald \u001b[39m\u001b[38;5;132;01m{\u001b[39;00mvalue\u001b[38;5;132;01m}\u001b[39;00m\u001b[38;5;124m\"\u001b[39m\n",
      "\u001b[0;31mAssertionError\u001b[0m: invald 3.1415929203539825"
     ]
    }
   ],
   "source": [
    "value = 355/113\n",
    "assert value == 3.14, f\"invald {value}\""
   ]
  },
  {
   "cell_type": "code",
   "execution_count": null,
   "id": "257f97e7-e659-4a32-a314-90a9a1cec184",
   "metadata": {},
   "outputs": [],
   "source": []
  }
 ],
 "metadata": {
  "kernelspec": {
   "display_name": "Python 3 (ipykernel)",
   "language": "python",
   "name": "python3"
  },
  "language_info": {
   "codemirror_mode": {
    "name": "ipython",
    "version": 3
   },
   "file_extension": ".py",
   "mimetype": "text/x-python",
   "name": "python",
   "nbconvert_exporter": "python",
   "pygments_lexer": "ipython3",
   "version": "3.12.0"
  }
 },
 "nbformat": 4,
 "nbformat_minor": 5
}
